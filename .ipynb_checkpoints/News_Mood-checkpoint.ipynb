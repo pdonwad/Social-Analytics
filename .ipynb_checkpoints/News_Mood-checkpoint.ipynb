{
 "cells": [
  {
   "cell_type": "code",
   "execution_count": 2,
   "metadata": {
    "collapsed": true
   },
   "outputs": [],
   "source": [
    "# Dependencies/Pakcages\n",
    "\n",
    "import tweepy\n",
    "import json\n",
    "import numpy as np\n",
    "import pandas as pd\n",
    "import matplotlib.pyplot as plt\n",
    "import seaborn as sns\n",
    "import random\n",
    "import time"
   ]
  },
  {
   "cell_type": "code",
   "execution_count": 3,
   "metadata": {
    "collapsed": true
   },
   "outputs": [],
   "source": [
    "# Import and Initialize Sentiment Analyzer\n",
    "from vaderSentiment.vaderSentiment import SentimentIntensityAnalyzer\n",
    "analyzer = SentimentIntensityAnalyzer()"
   ]
  },
  {
   "cell_type": "code",
   "execution_count": 4,
   "metadata": {
    "collapsed": true
   },
   "outputs": [],
   "source": [
    "# Twitter API Keys\n",
    "consumer_key = \"nAcORYEOO1VuyxcUVBA0aEvaR\"\n",
    "consumer_secret = \"OcNcSbRGVq5ZzaIBefNbmblVl5KfXSpUC3R9xrQ9Dh137F3RCl\"\n",
    "access_token = \"942931785478008832-DW0dQtVLzgqBt1QVgOsOTnDzMQS24dE\"\n",
    "access_token_secret = \"X0QzRf9MJY5C63bhjTbbO6Svrkkju54whz5zFnbOxFaFa\"\n",
    "\n",
    "# Setup Tweepy API Authentication\n",
    "auth = tweepy.OAuthHandler(consumer_key, consumer_secret)\n",
    "auth.set_access_token(access_token, access_token_secret)\n",
    "api = tweepy.API(auth, parser=tweepy.parsers.JSONParser())\n"
   ]
  },
  {
   "cell_type": "code",
   "execution_count": 11,
   "metadata": {
    "collapsed": true
   },
   "outputs": [],
   "source": [
    "# Target Search Terms\n",
    "target_terms = (\"@BBC\", \"@CBS\", \"@CNN\",\n",
    "                \"@Foxnews\", \"@newyorktimes110\")\n",
    "\n",
    "# Array to hold sentiment\n",
    "sentiments = []\n",
    "\n",
    "# Variable for holding the oldest tweet\n",
    "oldest_tweet = \"\"\n",
    "i = 0\n",
    "counter = 1"
   ]
  },
  {
   "cell_type": "code",
   "execution_count": 12,
   "metadata": {
    "collapsed": true
   },
   "outputs": [],
   "source": [
    "# Variable to hold sentiments\n",
    "compound_list = []\n",
    "positive_list = []\n",
    "negative_list = []\n",
    "neutral_list = []"
   ]
  },
  {
   "cell_type": "code",
   "execution_count": 13,
   "metadata": {},
   "outputs": [
    {
     "name": "stdout",
     "output_type": "stream",
     "text": [
      "Retrieving data for @BBC\n",
      "Retrieving data for @CBS\n",
      "Retrieving data for @CNN\n",
      "Retrieving data for @Foxnews\n",
      "Retrieving data for @newyorktimes110\n"
     ]
    }
   ],
   "source": [
    "# Loop through all target users\n",
    "for target in target_terms:\n",
    "\n",
    "    \n",
    "    i = 1\n",
    "    # Run search around each tweet\n",
    "    \n",
    "    print(\"Retrieving data for %s\" % target)\n",
    "    public_tweets = api.user_timeline(target, count=100 ,result_type=\"recent\")\n",
    "    \n",
    "    #print(public_tweets)\n",
    "    \n",
    "    # Loop through all tweets\n",
    "    for tweet in public_tweets:\n",
    "        text=tweet[\"text\"]\n",
    "        #print(tweet)\n"
   ]
  },
  {
   "cell_type": "code",
   "execution_count": 18,
   "metadata": {},
   "outputs": [],
   "source": [
    " # Run Vader Analysis on each tweet\n",
    "compound = analyzer.polarity_scores(tweet[\"text\"])[\"compound\"]\n",
    "pos = analyzer.polarity_scores(tweet[\"text\"])[\"pos\"]\n",
    "neu = analyzer.polarity_scores(tweet[\"text\"])[\"neu\"]\n",
    "neg = analyzer.polarity_scores(tweet[\"text\"])[\"neg\"]\n",
    "tweets_ago = counter\n",
    "        \n",
    "        # Add sentiments for each tweet into an array\n",
    "sentiments.append({\"Date\": tweet[\"created_at\"], \n",
    "                   \"Compound\": compound,\n",
    "                   \"Positive\": pos,\n",
    "                   \"Negative\": neu,\n",
    "                   \"Neutral\": neg,\n",
    "                   \"Tweets Ago\": counter})\n",
    "        \n",
    "# Add to counter \n",
    "counter = counter + 1"
   ]
  },
  {
   "cell_type": "code",
   "execution_count": 19,
   "metadata": {},
   "outputs": [
    {
     "data": {
      "text/html": [
       "<div>\n",
       "<style>\n",
       "    .dataframe thead tr:only-child th {\n",
       "        text-align: right;\n",
       "    }\n",
       "\n",
       "    .dataframe thead th {\n",
       "        text-align: left;\n",
       "    }\n",
       "\n",
       "    .dataframe tbody tr th {\n",
       "        vertical-align: top;\n",
       "    }\n",
       "</style>\n",
       "<table border=\"1\" class=\"dataframe\">\n",
       "  <thead>\n",
       "    <tr style=\"text-align: right;\">\n",
       "      <th></th>\n",
       "      <th>Compound</th>\n",
       "      <th>Date</th>\n",
       "      <th>Negative</th>\n",
       "      <th>Neutral</th>\n",
       "      <th>Positive</th>\n",
       "      <th>Tweets Ago</th>\n",
       "    </tr>\n",
       "  </thead>\n",
       "  <tbody>\n",
       "    <tr>\n",
       "      <th>0</th>\n",
       "      <td>-0.6369</td>\n",
       "      <td>Wed May 18 13:45:19 +0000 2016</td>\n",
       "      <td>0.819</td>\n",
       "      <td>0.181</td>\n",
       "      <td>0.0</td>\n",
       "      <td>1</td>\n",
       "    </tr>\n",
       "  </tbody>\n",
       "</table>\n",
       "</div>"
      ],
      "text/plain": [
       "   Compound                            Date  Negative  Neutral  Positive  \\\n",
       "0   -0.6369  Wed May 18 13:45:19 +0000 2016     0.819    0.181       0.0   \n",
       "\n",
       "   Tweets Ago  \n",
       "0           1  "
      ]
     },
     "execution_count": 19,
     "metadata": {},
     "output_type": "execute_result"
    }
   ],
   "source": [
    "# Convert sentiments to DataFrame\n",
    "sentiments_pd = pd.DataFrame.from_dict(sentiments)\n",
    "sentiments_pd.head()"
   ]
  },
  {
   "cell_type": "code",
   "execution_count": null,
   "metadata": {},
   "outputs": [],
   "source": [
    "\n"
   ]
  },
  {
   "cell_type": "code",
   "execution_count": null,
   "metadata": {
    "collapsed": true
   },
   "outputs": [],
   "source": []
  }
 ],
 "metadata": {
  "kernelspec": {
   "display_name": "Python 3",
   "language": "python",
   "name": "python3"
  },
  "language_info": {
   "codemirror_mode": {
    "name": "ipython",
    "version": 3
   },
   "file_extension": ".py",
   "mimetype": "text/x-python",
   "name": "python",
   "nbconvert_exporter": "python",
   "pygments_lexer": "ipython3",
   "version": "3.6.3"
  }
 },
 "nbformat": 4,
 "nbformat_minor": 2
}
